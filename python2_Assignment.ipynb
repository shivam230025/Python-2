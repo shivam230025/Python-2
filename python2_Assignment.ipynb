{
  "nbformat": 4,
  "nbformat_minor": 0,
  "metadata": {
    "colab": {
      "provenance": []
    },
    "kernelspec": {
      "name": "python3",
      "display_name": "Python 3"
    },
    "language_info": {
      "name": "python"
    }
  },
  "cells": [
    {
      "cell_type": "markdown",
      "source": [
        "# **PYTHON- DATA TYPES AND STRUCTURES**"
      ],
      "metadata": {
        "id": "v1tFm4bFZqFM"
      }
    },
    {
      "cell_type": "markdown",
      "source": [
        "# **Theoretical Questions**\n",
        "\n",
        "---"
      ],
      "metadata": {
        "id": "kzkHu1SjaK8O"
      }
    },
    {
      "cell_type": "markdown",
      "source": [
        "1-  What are data structures, and why are they important?"
      ],
      "metadata": {
        "id": "Rn4HZEKlZ9WW"
      }
    },
    {
      "cell_type": "markdown",
      "source": [
        "- Data structures are the method of organising and storing the data, they are important because they helps in viewing data in organised manner and manipulating the data, because data is nothing if you can't view or manipulate it\n"
      ],
      "metadata": {
        "id": "Nyuss3g3f6m4"
      }
    },
    {
      "cell_type": "markdown",
      "source": [
        "2- Explain the difference between mutable and immutable data types with examples"
      ],
      "metadata": {
        "id": "QRUb9fCUak69"
      }
    },
    {
      "cell_type": "markdown",
      "source": [
        "- Main difference between mutable and immutable is that in mutable after declaration of data we can change the data, but in immutable we cannot change data once declared. Eg- Lists, set are mutable while tuples, string are immutable."
      ],
      "metadata": {
        "id": "XPY3aPCUD1gf"
      }
    },
    {
      "cell_type": "code",
      "source": [
        "a= [1, 2.3, \"shivam\"]\n",
        "a[1]= \"hello\" # because lists are mutable we can do this\n",
        "print(a)\n",
        "\n",
        "b= (1, 2.3, \"shivam\")\n",
        "# b[1]= \"hello\"-------throws error   # because tuples are immutable it throws error\n",
        "print(b)"
      ],
      "metadata": {
        "colab": {
          "base_uri": "https://localhost:8080/"
        },
        "id": "OdnQj5CFE08M",
        "outputId": "27ce5cb7-f214-4bf8-fe82-5aba75d2b12c"
      },
      "execution_count": 6,
      "outputs": [
        {
          "output_type": "stream",
          "name": "stdout",
          "text": [
            "[1, 'hello', 'shivam']\n",
            "(1, 2.3, 'shivam')\n"
          ]
        }
      ]
    },
    {
      "cell_type": "markdown",
      "source": [
        "3- What are the main differences between lists and tuples in Python?"
      ],
      "metadata": {
        "id": "8EulJiGvatis"
      }
    },
    {
      "cell_type": "markdown",
      "source": [
        "- main differences between lists and tuples is that lists are mutable while tuples are immutable. ie we can change data of list while in tuples we cannot change the data\n",
        "- lists are declared with [] brackets, while tuples are declared with () brackets"
      ],
      "metadata": {
        "id": "q_jUPoAsFqTH"
      }
    },
    {
      "cell_type": "code",
      "source": [
        "a= [1, 2.3, \"shivam\"]\n",
        "a[1]= \"hello\"\n",
        "print(a)\n",
        "\n",
        "b= (1, 2.3, \"shivam\")\n",
        "# b[1]= \"hello\"-------throws error\n",
        "print(b)"
      ],
      "metadata": {
        "colab": {
          "base_uri": "https://localhost:8080/"
        },
        "id": "ju0wJXGqGcs0",
        "outputId": "0518a35b-fa30-48b1-ca80-1137e0d91ee8"
      },
      "execution_count": 7,
      "outputs": [
        {
          "output_type": "stream",
          "name": "stdout",
          "text": [
            "[1, 'hello', 'shivam']\n",
            "(1, 2.3, 'shivam')\n"
          ]
        }
      ]
    },
    {
      "cell_type": "markdown",
      "source": [
        "4- Describe how dictionaries store data?"
      ],
      "metadata": {
        "id": "hS0cizlBaxP0"
      }
    },
    {
      "cell_type": "markdown",
      "source": [
        "- dictionaries store data in the form of key, value pairs in which we can get specific values with the help of their corresponding key only."
      ],
      "metadata": {
        "id": "iLwqsTB3G3oE"
      }
    },
    {
      "cell_type": "code",
      "source": [
        "dict= {\"key1\":\"value1\", \"key2\":\"value2\", \"key3\":\"value3\"}\n",
        "dict[\"key1\"]"
      ],
      "metadata": {
        "colab": {
          "base_uri": "https://localhost:8080/",
          "height": 35
        },
        "id": "jEBMy66MSc9s",
        "outputId": "09fcbee8-0e0c-4fc9-e996-3734d8a428bc"
      },
      "execution_count": 10,
      "outputs": [
        {
          "output_type": "execute_result",
          "data": {
            "text/plain": [
              "'value1'"
            ],
            "application/vnd.google.colaboratory.intrinsic+json": {
              "type": "string"
            }
          },
          "metadata": {},
          "execution_count": 10
        }
      ]
    },
    {
      "cell_type": "markdown",
      "source": [
        "5-  Why might you use a set instead of a list in Python?"
      ],
      "metadata": {
        "id": "1T7HFqbZa0oI"
      }
    },
    {
      "cell_type": "markdown",
      "source": [
        "- set is an unordered data structure which doesnot allow duplicate values while list is an ordered which allows duplicate values in it.\n",
        "- we can use set instead of list, eg- there is a column containing specific values repeating and we want to only know what are those specific values, we can use set for this"
      ],
      "metadata": {
        "id": "3cMhR8tZS8b8"
      }
    },
    {
      "cell_type": "code",
      "source": [
        "height= {\"tall\", \"short\", \"tall\", \"medium\", \"short\", \"short\"}\n",
        "print(height)"
      ],
      "metadata": {
        "colab": {
          "base_uri": "https://localhost:8080/"
        },
        "id": "MMWGZqPhT_GW",
        "outputId": "abcba0d3-2ef3-4f5d-8648-4a81f6976ad6"
      },
      "execution_count": 11,
      "outputs": [
        {
          "output_type": "stream",
          "name": "stdout",
          "text": [
            "{'short', 'medium', 'tall'}\n"
          ]
        }
      ]
    },
    {
      "cell_type": "markdown",
      "source": [
        "6- What is a string in Python, and how is it different from a list?"
      ],
      "metadata": {
        "id": "qebo3upQa4Z_"
      }
    },
    {
      "cell_type": "markdown",
      "source": [
        "- string is a sequence of characters that is used to represent some text, its is enclosed in single, double or triple qoutes in Python.\n",
        "- string is immutable while list is mutable."
      ],
      "metadata": {
        "id": "Tb-RvttBUdPk"
      }
    },
    {
      "cell_type": "code",
      "source": [
        "string1= \"hello\"\n",
        "# string1[1]= 'q'------Throws error\n",
        "print(string1)\n",
        "\n",
        "list1= [2, 4.7, \"hello\", 4+5j]\n",
        "list1[1]= \"hi\"\n",
        "print(list1)"
      ],
      "metadata": {
        "colab": {
          "base_uri": "https://localhost:8080/"
        },
        "id": "W5HQaFsxVDTY",
        "outputId": "f54ca7ce-2d1f-4db9-ae3b-24fae1e4f1ad"
      },
      "execution_count": 18,
      "outputs": [
        {
          "output_type": "stream",
          "name": "stdout",
          "text": [
            "hello\n",
            "[2, 'hi', 'hello', (4+5j)]\n"
          ]
        }
      ]
    },
    {
      "cell_type": "markdown",
      "source": [
        "7- How do tuples ensure data integrity in Python?"
      ],
      "metadata": {
        "id": "qqTpa5pMa7xx"
      }
    },
    {
      "cell_type": "markdown",
      "source": [
        "- tuples are designed such a way that once data is declared, we cannot change it ahead in our code. so thoughout our process data in tuples remains in same, this way tuples ensures data integrity in Python"
      ],
      "metadata": {
        "id": "dQAskf5cVqGq"
      }
    },
    {
      "cell_type": "markdown",
      "source": [
        "8- What is a hash table, and how does it relate to dictionaries in Python?"
      ],
      "metadata": {
        "id": "75PJWmEba_CS"
      }
    },
    {
      "cell_type": "markdown",
      "source": [
        "- Hash table is a data structure which uses hash function to calculate unique value for each key and stores value in internal array for quick efficiency.\n",
        "- Python uses hash table to implement dictionaries data structures, which means keys stored in dictionaries should be hashable hence immutable."
      ],
      "metadata": {
        "id": "a88ULX9DWcXV"
      }
    },
    {
      "cell_type": "markdown",
      "source": [
        "9- Can lists contain different data types in Python?"
      ],
      "metadata": {
        "id": "eOEx7iq4bCfr"
      }
    },
    {
      "cell_type": "markdown",
      "source": [
        "- Lists are hetergenous in nature unlike arrays which are homogenous, hence lists can contain different data types in Python"
      ],
      "metadata": {
        "id": "i6brAJklZGI0"
      }
    },
    {
      "cell_type": "code",
      "source": [
        "a= [1, 4.5, \"hello\", True, 4+7j]\n",
        "[print(type(i)) for i in a]"
      ],
      "metadata": {
        "colab": {
          "base_uri": "https://localhost:8080/"
        },
        "id": "fDHy57fZZbFC",
        "outputId": "a21ac505-2b88-42ba-a038-0cc46ade00f0"
      },
      "execution_count": 23,
      "outputs": [
        {
          "output_type": "stream",
          "name": "stdout",
          "text": [
            "<class 'int'>\n",
            "<class 'float'>\n",
            "<class 'str'>\n",
            "<class 'bool'>\n",
            "<class 'complex'>\n"
          ]
        },
        {
          "output_type": "execute_result",
          "data": {
            "text/plain": [
              "[None, None, None, None, None]"
            ]
          },
          "metadata": {},
          "execution_count": 23
        }
      ]
    },
    {
      "cell_type": "markdown",
      "source": [
        "10- Explain why strings are immutable in Python?"
      ],
      "metadata": {
        "id": "-dJVboYsbFqp"
      }
    },
    {
      "cell_type": "markdown",
      "source": [
        "- Strings are designed as immutable in python because it has various benefits, such as **hashable**- strings can be used to store key values in dictionaries, **increased performance**- because they are hashable, it increases efficiency in data look up"
      ],
      "metadata": {
        "id": "Ico28ePpakm5"
      }
    },
    {
      "cell_type": "markdown",
      "source": [
        "11-  What advantages do dictionaries offer over lists for certain tasks?"
      ],
      "metadata": {
        "id": "f0Bi5QI6bLWL"
      }
    },
    {
      "cell_type": "markdown",
      "source": [
        "- **Efficiency**- dictionaries uses hashtable to store key value pairs while lists stores data sequentially, means when searching for value in dictionary has complexity O(1), while list has O(n) as it searches for value sequentially\n",
        "- **large data**- when working with large data set it is preferred to use dictionary as list slows down with increase in data size.\n",
        "- **key value storage**- dictionary uses key value to store data, means we can associate specific value with key, but in list value only has corresponding index, means any related data will require seperate list."
      ],
      "metadata": {
        "id": "PALOPf5ocud4"
      }
    },
    {
      "cell_type": "markdown",
      "source": [
        "12- Describe a scenario where using a tuple would be preferable over a list?"
      ],
      "metadata": {
        "id": "Slo2o371bOxN"
      }
    },
    {
      "cell_type": "markdown",
      "source": [
        "- tuple is immutable while list are mutable.\n",
        "- Scenario like storing Date of birth of a person in tuple format (date, month, year), so that it doesnot accidently get changed while running the application."
      ],
      "metadata": {
        "id": "4RrVqwhlhzKT"
      }
    },
    {
      "cell_type": "markdown",
      "source": [
        "13-  How do sets handle duplicate values in Python?"
      ],
      "metadata": {
        "id": "z2qSS3UWbSft"
      }
    },
    {
      "cell_type": "markdown",
      "source": [
        "- sets are designed in such a way that it only stores unique value, when we try to add duplicate value it doesn't affect the set, but when we try to add unique value it adds it to the set."
      ],
      "metadata": {
        "id": "Ow2x9J1lj-c6"
      }
    },
    {
      "cell_type": "code",
      "source": [
        "set1= {2, 7, \"hello\", \"shivam\", 7, \"hello\"}\n",
        "print(set1)\n",
        "\n",
        "set1.add(\"hello\")  # adding duplicate\n",
        "print(set1)"
      ],
      "metadata": {
        "colab": {
          "base_uri": "https://localhost:8080/"
        },
        "id": "t5QLvYsGkqzU",
        "outputId": "26ac7977-2257-4faa-a782-72d413eeceee"
      },
      "execution_count": 26,
      "outputs": [
        {
          "output_type": "stream",
          "name": "stdout",
          "text": [
            "{'shivam', 2, 'hello', 7}\n",
            "{'shivam', 2, 'hello', 7}\n"
          ]
        }
      ]
    },
    {
      "cell_type": "markdown",
      "source": [
        "14- How does the “in” keyword work differently for lists and dictionaries?"
      ],
      "metadata": {
        "id": "HJacWb-cbVlZ"
      }
    },
    {
      "cell_type": "markdown",
      "source": [
        "- in Lists, \"in\" keyword searches for values present in the list.\n",
        "- while in dictionaries, \"in\" keyword searches for keys present NOT the values corresponding to keys."
      ],
      "metadata": {
        "id": "qq--gVXdlYb6"
      }
    },
    {
      "cell_type": "code",
      "source": [
        "a= [2, 5, \"hello\"]\n",
        "print(\"hello\" in a)\n",
        "\n",
        "dict= {2:\"two value\", \"key\":\"value3\"}\n",
        "print(2 in dict)\n",
        "print(\"two value\" in dict)"
      ],
      "metadata": {
        "colab": {
          "base_uri": "https://localhost:8080/"
        },
        "id": "FWRpiXx0lj1n",
        "outputId": "9887f856-2d6b-4bc1-9ead-00699a2798c6"
      },
      "execution_count": 34,
      "outputs": [
        {
          "output_type": "stream",
          "name": "stdout",
          "text": [
            "True\n",
            "True\n",
            "False\n"
          ]
        }
      ]
    },
    {
      "cell_type": "markdown",
      "source": [
        "15- Can you modify the elements of a tuple? Explain why or why not."
      ],
      "metadata": {
        "id": "SqhFI-6ZbZA3"
      }
    },
    {
      "cell_type": "markdown",
      "source": [
        "- No, we cannot modify elements of a tuple, because they are designed in such a way that they are immutable. hence, NOT allowing accidental modification of data.\n",
        "- this immutablity feature of tuple ensures data integrity and consistency throughout the code"
      ],
      "metadata": {
        "id": "1Kog_tDlnlwm"
      }
    },
    {
      "cell_type": "markdown",
      "source": [
        "16- What is a nested dictionary, and give an example of its use case?"
      ],
      "metadata": {
        "id": "ufalkwMhbdTk"
      }
    },
    {
      "cell_type": "markdown",
      "source": [
        "- in Nested dictionary, dictionary contains another dictionary as value.\n",
        "- eg - employee data"
      ],
      "metadata": {
        "id": "bbfA97GRo4o2"
      }
    },
    {
      "cell_type": "code",
      "source": [
        "emp_data= {\"emp1\": {\"name\": \"shankar\", \"department\":\"IT\", \"salary\":\"50K\"},\n",
        "           \"emp2\": {\"name\": \"sunil\", \"department\":\"HR\", \"salary\":\"55K\"}}\n",
        "emp_data.get(\"emp2\").get(\"name\")"
      ],
      "metadata": {
        "colab": {
          "base_uri": "https://localhost:8080/",
          "height": 35
        },
        "id": "57ZKrLF-pyoU",
        "outputId": "81276aec-c3db-44c3-d512-b836b55b296e"
      },
      "execution_count": 40,
      "outputs": [
        {
          "output_type": "execute_result",
          "data": {
            "text/plain": [
              "'sunil'"
            ],
            "application/vnd.google.colaboratory.intrinsic+json": {
              "type": "string"
            }
          },
          "metadata": {},
          "execution_count": 40
        }
      ]
    },
    {
      "cell_type": "markdown",
      "source": [
        "17-  Describe the time complexity of accessing elements in a dictionary"
      ],
      "metadata": {
        "id": "krTY7KZybhBX"
      }
    },
    {
      "cell_type": "markdown",
      "source": [
        "- Time complexity of accessing elements in a dictionary is **O(1)**, because it uses hash funtion to map keys to value efficiently by calculating a unique index for each key in an internal array. each operation like lookup, insertion, and deletion has complexity of O(1)."
      ],
      "metadata": {
        "id": "j4vDwtfKqsfL"
      }
    },
    {
      "cell_type": "markdown",
      "source": [
        "18- In what situations are lists preferred over dictionaries?"
      ],
      "metadata": {
        "id": "7Ko_96W8blkO"
      }
    },
    {
      "cell_type": "markdown",
      "source": [
        "- **Duplicate data**- in lists we can store duplicate data, where as in dictionary only allows unique keys, so in situations in which we need duplicates lists are preferred.\n",
        "- **simple structure**- lists stores data in a simple sequential manner, where each value is stored corresponding to a integer index , situations where data is small and simple, lists are preffered.\n",
        "- **ordered storage**- lists allows ordered storage of data, whereas dictionaries are unordered before Python3.7"
      ],
      "metadata": {
        "id": "0-eO-NT4uSbd"
      }
    },
    {
      "cell_type": "markdown",
      "source": [
        "19- Why are dictionaries considered unordered, and how does that affect data retrieval?"
      ],
      "metadata": {
        "id": "wlBCatLiboz4"
      }
    },
    {
      "cell_type": "markdown",
      "source": [
        "- before Python3.7, dictionaries doesnot maintain the order in which key value pairs are stored, hence dictionaries are considered unordered. underlining dictionary uses hash table which focuses on efficient retrieval of data instead of maintaining order,based on hash values, hash table distibutes data accross memory for efficient look up.\n",
        "- To retrieve data, we need corresponding key value for effective data lookup regardless of where data is stored in memory."
      ],
      "metadata": {
        "id": "VfXzJfzpxYmT"
      }
    },
    {
      "cell_type": "markdown",
      "source": [
        "20- Explain the difference between a list and a dictionary in terms of data retrieval?"
      ],
      "metadata": {
        "id": "q-t34TTobscK"
      }
    },
    {
      "cell_type": "markdown",
      "source": [
        "- in Lists, data is stored in orderly and sequential manner corresponding to an integer index value. we can directly retrieve data coresponding to index value, while iterating through lists also, it maintains the order in which they are stored.\n",
        "- in Dictionaries, data is stored in key value pairs, based on hash value data is distributed accross the internal memory, to retrieve data we can directly get it by its key value, prior to python3.7 dictiionary didnt maintain order in which they were stored."
      ],
      "metadata": {
        "id": "XwmhuNerzWgb"
      }
    },
    {
      "cell_type": "markdown",
      "source": [
        "# **Practical Questions**\n",
        "\n",
        "---"
      ],
      "metadata": {
        "id": "CJm2z36_cCNt"
      }
    },
    {
      "cell_type": "markdown",
      "source": [
        "1- Write a code to create a string with your name and print it"
      ],
      "metadata": {
        "id": "gudbv42pcSfr"
      }
    },
    {
      "cell_type": "code",
      "source": [
        "name= input(\"Enter you name: \")\n",
        "print(f\"your name is {name}\")"
      ],
      "metadata": {
        "colab": {
          "base_uri": "https://localhost:8080/"
        },
        "id": "2hcxHW-71J1y",
        "outputId": "bcd92885-abc5-4364-afd3-397b624a1ab4"
      },
      "execution_count": 42,
      "outputs": [
        {
          "output_type": "stream",
          "name": "stdout",
          "text": [
            "Enter you name: shivam\n",
            "your name is shivam\n"
          ]
        }
      ]
    },
    {
      "cell_type": "markdown",
      "source": [
        "2- Write a code to find the length of the string \"Hello World\"."
      ],
      "metadata": {
        "id": "k3MYfB-9ccTk"
      }
    },
    {
      "cell_type": "code",
      "source": [
        "a= \"Hello World\"\n",
        "print(len(a))"
      ],
      "metadata": {
        "colab": {
          "base_uri": "https://localhost:8080/"
        },
        "id": "ltf1_DSA1yI3",
        "outputId": "6df0d296-8827-4994-ea09-b79a601fe965"
      },
      "execution_count": 43,
      "outputs": [
        {
          "output_type": "stream",
          "name": "stdout",
          "text": [
            "11\n"
          ]
        }
      ]
    },
    {
      "cell_type": "markdown",
      "source": [
        "3- Write a code to slice the first 3 characters from the string \"Python Programming\"."
      ],
      "metadata": {
        "id": "pIJkppqdcgdL"
      }
    },
    {
      "cell_type": "code",
      "source": [
        "b= \"Python Programming\"\n",
        "print(b[:3])"
      ],
      "metadata": {
        "colab": {
          "base_uri": "https://localhost:8080/"
        },
        "id": "cL4Cv8Co194v",
        "outputId": "bfadd284-7576-42bb-adf4-bd872227c84f"
      },
      "execution_count": 46,
      "outputs": [
        {
          "output_type": "stream",
          "name": "stdout",
          "text": [
            "Pyt\n"
          ]
        }
      ]
    },
    {
      "cell_type": "markdown",
      "source": [
        "4- Write a code to convert the string \"hello\" to uppercase."
      ],
      "metadata": {
        "id": "X3yH-ecXckSL"
      }
    },
    {
      "cell_type": "code",
      "source": [
        "c= \"hello\"\n",
        "print(c.upper())"
      ],
      "metadata": {
        "colab": {
          "base_uri": "https://localhost:8080/"
        },
        "id": "tG7WooxI2Qik",
        "outputId": "47663456-d97c-4447-e560-20b007c76cdf"
      },
      "execution_count": 47,
      "outputs": [
        {
          "output_type": "stream",
          "name": "stdout",
          "text": [
            "HELLO\n"
          ]
        }
      ]
    },
    {
      "cell_type": "markdown",
      "source": [
        "5- Write a code to replace the word \"apple\" with \"orange\" in the string \"I like apple\"."
      ],
      "metadata": {
        "id": "s-ae8oO8cnX1"
      }
    },
    {
      "cell_type": "code",
      "source": [
        "text= \"I like apple\"\n",
        "new_text= text.replace(\"apple\", \"orange\")\n",
        "print(new_text)"
      ],
      "metadata": {
        "colab": {
          "base_uri": "https://localhost:8080/"
        },
        "id": "U5be2Ss_2cOq",
        "outputId": "bf5fc3d3-89f0-425f-b5c8-495297ec6b0d"
      },
      "execution_count": 48,
      "outputs": [
        {
          "output_type": "stream",
          "name": "stdout",
          "text": [
            "I like orange\n"
          ]
        }
      ]
    },
    {
      "cell_type": "markdown",
      "source": [
        "6-  Write a code to create a list with numbers 1 to 5 and print it."
      ],
      "metadata": {
        "id": "JhF8WfxScqo7"
      }
    },
    {
      "cell_type": "code",
      "source": [
        "list1= [x for x in range(1,6)]\n",
        "print(list1)"
      ],
      "metadata": {
        "colab": {
          "base_uri": "https://localhost:8080/"
        },
        "id": "gr2_TYPj3DOB",
        "outputId": "e664278b-4878-4f52-a589-0611576fdce5"
      },
      "execution_count": 51,
      "outputs": [
        {
          "output_type": "stream",
          "name": "stdout",
          "text": [
            "[1, 2, 3, 4, 5]\n"
          ]
        }
      ]
    },
    {
      "cell_type": "markdown",
      "source": [
        "7- Write a code to append the number 10 to the list [1, 2, 3, 4]."
      ],
      "metadata": {
        "id": "xss4mgC9ct47"
      }
    },
    {
      "cell_type": "code",
      "source": [
        "list2= [1, 2, 3, 4]\n",
        "list2.append(10)\n",
        "print(list2)"
      ],
      "metadata": {
        "colab": {
          "base_uri": "https://localhost:8080/"
        },
        "id": "5xhYaoUs3bqB",
        "outputId": "59a81aad-79bc-46c0-acf1-d19781a14a22"
      },
      "execution_count": 52,
      "outputs": [
        {
          "output_type": "stream",
          "name": "stdout",
          "text": [
            "[1, 2, 3, 4, 10]\n"
          ]
        }
      ]
    },
    {
      "cell_type": "markdown",
      "source": [
        "8- Write a code to remove the number 3 from the list [1, 2, 3, 4, 5]."
      ],
      "metadata": {
        "id": "FX_vZMO-cxD8"
      }
    },
    {
      "cell_type": "code",
      "source": [
        "list3= [1, 2, 3, 4, 5]\n",
        "list3.remove(3)\n",
        "print(list3)"
      ],
      "metadata": {
        "colab": {
          "base_uri": "https://localhost:8080/"
        },
        "id": "6kFS9Lyz3nyH",
        "outputId": "38680822-f61a-4645-f683-e51ebc4559c7"
      },
      "execution_count": 53,
      "outputs": [
        {
          "output_type": "stream",
          "name": "stdout",
          "text": [
            "[1, 2, 4, 5]\n"
          ]
        }
      ]
    },
    {
      "cell_type": "markdown",
      "source": [
        "9- Write a code to access the second element in the list ['a', 'b', 'c', 'd']."
      ],
      "metadata": {
        "id": "uoi9wu7Kc0iQ"
      }
    },
    {
      "cell_type": "code",
      "source": [
        "list4= ['a', 'b', 'c', 'd']\n",
        "print(list4[1])"
      ],
      "metadata": {
        "colab": {
          "base_uri": "https://localhost:8080/"
        },
        "id": "9cgzM7j03zY5",
        "outputId": "05942e2e-918e-4e83-8c44-0da01fa992cd"
      },
      "execution_count": 54,
      "outputs": [
        {
          "output_type": "stream",
          "name": "stdout",
          "text": [
            "b\n"
          ]
        }
      ]
    },
    {
      "cell_type": "markdown",
      "source": [
        "10- Write a code to reverse the list [10, 20, 30, 40, 50]."
      ],
      "metadata": {
        "id": "ujPhzy-gc4K2"
      }
    },
    {
      "cell_type": "code",
      "source": [
        "list5= [10, 20, 30, 40, 50]\n",
        "print(list5[::-1])"
      ],
      "metadata": {
        "colab": {
          "base_uri": "https://localhost:8080/"
        },
        "id": "X3gcREua4FNN",
        "outputId": "104daa8d-3df5-4147-fe69-afdd4f5a1a50"
      },
      "execution_count": 55,
      "outputs": [
        {
          "output_type": "stream",
          "name": "stdout",
          "text": [
            "[50, 40, 30, 20, 10]\n"
          ]
        }
      ]
    },
    {
      "cell_type": "markdown",
      "source": [
        "11- Write a code to create a tuple with the elements 100, 200, 300 and print it."
      ],
      "metadata": {
        "id": "xFERMVf4c78E"
      }
    },
    {
      "cell_type": "code",
      "source": [
        "tup1= (100, 200, 300)\n",
        "print(tup1)"
      ],
      "metadata": {
        "colab": {
          "base_uri": "https://localhost:8080/"
        },
        "id": "tM5E4qJ-4RBj",
        "outputId": "b7adcff1-ed6d-49e6-9673-1520b0d42143"
      },
      "execution_count": 56,
      "outputs": [
        {
          "output_type": "stream",
          "name": "stdout",
          "text": [
            "(100, 200, 300)\n"
          ]
        }
      ]
    },
    {
      "cell_type": "markdown",
      "source": [
        "12- Write a code to access the second-to-last element of the tuple ('red', 'green', 'blue', 'yellow')."
      ],
      "metadata": {
        "id": "qFFdu7y5c_uv"
      }
    },
    {
      "cell_type": "code",
      "source": [
        "tup2= ('red', 'green', 'blue', 'yellow')\n",
        "print(tup2[-2])"
      ],
      "metadata": {
        "colab": {
          "base_uri": "https://localhost:8080/"
        },
        "id": "bGFjisOA4e8m",
        "outputId": "0b9032ae-1bca-4892-928a-f06507fe1de8"
      },
      "execution_count": 58,
      "outputs": [
        {
          "output_type": "stream",
          "name": "stdout",
          "text": [
            "blue\n"
          ]
        }
      ]
    },
    {
      "cell_type": "markdown",
      "source": [
        "13- Write a code to find the minimum number in the tuple (10, 20, 5, 15)."
      ],
      "metadata": {
        "id": "YroDCZ-gdC4n"
      }
    },
    {
      "cell_type": "code",
      "source": [
        "tup3= (10, 20, 5, 15)\n",
        "print(min(tup3))"
      ],
      "metadata": {
        "colab": {
          "base_uri": "https://localhost:8080/"
        },
        "id": "ACZELk6w4w4H",
        "outputId": "a4199a53-541b-48fa-92a3-b19add7744d6"
      },
      "execution_count": 59,
      "outputs": [
        {
          "output_type": "stream",
          "name": "stdout",
          "text": [
            "5\n"
          ]
        }
      ]
    },
    {
      "cell_type": "markdown",
      "source": [
        "14- Write a code to find the index of the element \"cat\" in the tuple ('dog', 'cat', 'rabbit')."
      ],
      "metadata": {
        "id": "YH0mw5cEdGep"
      }
    },
    {
      "cell_type": "code",
      "source": [
        "tup4= ('dog', 'cat', 'rabbit')\n",
        "print(tup4.index(\"cat\"))"
      ],
      "metadata": {
        "colab": {
          "base_uri": "https://localhost:8080/"
        },
        "id": "hm_GK0os45lR",
        "outputId": "b789b466-9565-4fb0-94a5-9a013bc2cd36"
      },
      "execution_count": 61,
      "outputs": [
        {
          "output_type": "stream",
          "name": "stdout",
          "text": [
            "1\n"
          ]
        }
      ]
    },
    {
      "cell_type": "markdown",
      "source": [
        "15- Write a code to create a tuple containing three different fruits and check if \"kiwi\" is in it."
      ],
      "metadata": {
        "id": "F5r_1O2adJ6n"
      }
    },
    {
      "cell_type": "code",
      "source": [
        "tup5= (\"orange\", \"apple\", \"kiwi\")\n",
        "print(\"kiwi\" in tup5)"
      ],
      "metadata": {
        "colab": {
          "base_uri": "https://localhost:8080/"
        },
        "id": "qxfmONV_5Jar",
        "outputId": "7e8c7858-f45e-4e23-b56d-5dc44dca589f"
      },
      "execution_count": 62,
      "outputs": [
        {
          "output_type": "stream",
          "name": "stdout",
          "text": [
            "True\n"
          ]
        }
      ]
    },
    {
      "cell_type": "markdown",
      "source": [
        "16- Write a code to create a set with the elements 'a', 'b', 'c' and print it."
      ],
      "metadata": {
        "id": "eBm7LO1RdNCC"
      }
    },
    {
      "cell_type": "code",
      "source": [
        "set1= {\"a\", \"b\", \"c\"}\n",
        "print(set1)"
      ],
      "metadata": {
        "colab": {
          "base_uri": "https://localhost:8080/"
        },
        "id": "N90LYRCo8sTm",
        "outputId": "56d5930a-99c8-453b-acc9-b2f5d0b9d195"
      },
      "execution_count": 63,
      "outputs": [
        {
          "output_type": "stream",
          "name": "stdout",
          "text": [
            "{'b', 'a', 'c'}\n"
          ]
        }
      ]
    },
    {
      "cell_type": "markdown",
      "source": [
        "17- Write a code to clear all elements from the set {1, 2, 3, 4, 5}."
      ],
      "metadata": {
        "id": "hmXprQvedRUc"
      }
    },
    {
      "cell_type": "code",
      "source": [
        "set2= {1, 2, 3, 4, 5}\n",
        "print(set2)\n",
        "set2.clear()\n",
        "print(set2)"
      ],
      "metadata": {
        "colab": {
          "base_uri": "https://localhost:8080/"
        },
        "id": "RIx4VXaj84fg",
        "outputId": "92434db7-88db-41f3-96d0-b602b70a9eca"
      },
      "execution_count": 65,
      "outputs": [
        {
          "output_type": "stream",
          "name": "stdout",
          "text": [
            "{1, 2, 3, 4, 5}\n",
            "set()\n"
          ]
        }
      ]
    },
    {
      "cell_type": "markdown",
      "source": [
        "18- Write a code to remove the element 4 from the set {1, 2, 3, 4}."
      ],
      "metadata": {
        "id": "FVc5OgnzdU0m"
      }
    },
    {
      "cell_type": "code",
      "source": [
        "set3= {1, 2, 3, 4}\n",
        "set3.remove(4)\n",
        "print(set3)"
      ],
      "metadata": {
        "colab": {
          "base_uri": "https://localhost:8080/"
        },
        "id": "gtMnQu789Hta",
        "outputId": "ae975a97-0a5d-4fc9-8967-6e6af078f913"
      },
      "execution_count": 66,
      "outputs": [
        {
          "output_type": "stream",
          "name": "stdout",
          "text": [
            "{1, 2, 3}\n"
          ]
        }
      ]
    },
    {
      "cell_type": "markdown",
      "source": [
        "19- Write a code to find the union of two sets {1, 2, 3} and {3, 4, 5}."
      ],
      "metadata": {
        "id": "x7KJI74ddXoe"
      }
    },
    {
      "cell_type": "code",
      "source": [
        "set4= {1, 2, 3}\n",
        "set5= {3, 4, 5}\n",
        "print(set4 | set5)"
      ],
      "metadata": {
        "colab": {
          "base_uri": "https://localhost:8080/"
        },
        "id": "7TSQgnEl9Rti",
        "outputId": "552c0c77-42d0-46ba-afc3-c758c72e9faa"
      },
      "execution_count": 68,
      "outputs": [
        {
          "output_type": "stream",
          "name": "stdout",
          "text": [
            "{1, 2, 3, 4, 5}\n"
          ]
        }
      ]
    },
    {
      "cell_type": "markdown",
      "source": [
        "20- Write a code to find the intersection of two sets {1, 2, 3} and {2, 3, 4}."
      ],
      "metadata": {
        "id": "4b8PaRaWdaXr"
      }
    },
    {
      "cell_type": "code",
      "source": [
        "set6= {1, 2, 3}\n",
        "set7= {2, 3, 4}\n",
        "print(set6 & set7)"
      ],
      "metadata": {
        "colab": {
          "base_uri": "https://localhost:8080/"
        },
        "id": "fOUnWx0D9gcX",
        "outputId": "8cb84bcd-e2ce-4c6c-aa50-3b0de03094db"
      },
      "execution_count": 69,
      "outputs": [
        {
          "output_type": "stream",
          "name": "stdout",
          "text": [
            "{2, 3}\n"
          ]
        }
      ]
    },
    {
      "cell_type": "markdown",
      "source": [
        "21- Write a code to create a dictionary with the keys \"name\", \"age\", and \"city\", and print it."
      ],
      "metadata": {
        "id": "zv0PTwOgddv5"
      }
    },
    {
      "cell_type": "code",
      "source": [
        "dict1= {\"name\":\"shivam\", \"age\":24, \"city\":\"delhi\"}\n",
        "print(dict1)"
      ],
      "metadata": {
        "colab": {
          "base_uri": "https://localhost:8080/"
        },
        "id": "XThNiRR69tyL",
        "outputId": "f9a38af8-14db-47a3-85eb-21ba741b716f"
      },
      "execution_count": 70,
      "outputs": [
        {
          "output_type": "stream",
          "name": "stdout",
          "text": [
            "{'name': 'shivam', 'age': 24, 'city': 'delhi'}\n"
          ]
        }
      ]
    },
    {
      "cell_type": "markdown",
      "source": [
        "22- Write a code to add a new key-value pair \"country\": \"USA\" to the dictionary {'name': 'John', 'age': 25}."
      ],
      "metadata": {
        "id": "XJg9HK74di2P"
      }
    },
    {
      "cell_type": "code",
      "source": [
        "dict2= {'name': 'John', 'age': 25}\n",
        "dict2[\"country\"]= \"USA\"\n",
        "print(dict2)"
      ],
      "metadata": {
        "colab": {
          "base_uri": "https://localhost:8080/"
        },
        "id": "dRa2NCYm-CCt",
        "outputId": "57aba610-2d64-4461-90af-d2cb3b52d7e2"
      },
      "execution_count": 71,
      "outputs": [
        {
          "output_type": "stream",
          "name": "stdout",
          "text": [
            "{'name': 'John', 'age': 25, 'country': 'USA'}\n"
          ]
        }
      ]
    },
    {
      "cell_type": "markdown",
      "source": [
        "23- Write a code to access the value associated with the key \"name\" in the dictionary {'name': 'Alice', 'age': 30}."
      ],
      "metadata": {
        "id": "pr0e3s0hdsMw"
      }
    },
    {
      "cell_type": "code",
      "source": [
        "dict3= {'name': 'Alice', 'age': 30}\n",
        "print(dict3.get(\"name\"))\n",
        "print(dict3[\"name\"])"
      ],
      "metadata": {
        "colab": {
          "base_uri": "https://localhost:8080/"
        },
        "id": "JeA6CMdc-WYv",
        "outputId": "d177de1c-40fe-4e83-ce20-bf2728bd47fb"
      },
      "execution_count": 73,
      "outputs": [
        {
          "output_type": "stream",
          "name": "stdout",
          "text": [
            "Alice\n",
            "Alice\n"
          ]
        }
      ]
    },
    {
      "cell_type": "markdown",
      "source": [
        "24- Write a code to remove the key \"age\" from the dictionary {'name': 'Bob', 'age': 22, 'city': 'New York'}."
      ],
      "metadata": {
        "id": "PGM2uwCcdvL4"
      }
    },
    {
      "cell_type": "code",
      "source": [
        "dict4= {'name': 'Bob', 'age': 22, 'city': 'New York'}\n",
        "dict4.pop(\"age\")\n",
        "print(dict4)"
      ],
      "metadata": {
        "colab": {
          "base_uri": "https://localhost:8080/"
        },
        "id": "g4qGReM5-l2c",
        "outputId": "8c6da254-5c80-4806-e716-44123a711e64"
      },
      "execution_count": 74,
      "outputs": [
        {
          "output_type": "stream",
          "name": "stdout",
          "text": [
            "{'name': 'Bob', 'city': 'New York'}\n"
          ]
        }
      ]
    },
    {
      "cell_type": "markdown",
      "source": [
        "25- Write a code to check if the key \"city\" exists in the dictionary {'name': 'Alice', 'city': 'Paris'}."
      ],
      "metadata": {
        "id": "W68efXlcdzFW"
      }
    },
    {
      "cell_type": "code",
      "source": [
        "dict5= {'name': 'Alice', 'city': 'Paris'}\n",
        "print(\"city\" in dict5)"
      ],
      "metadata": {
        "colab": {
          "base_uri": "https://localhost:8080/"
        },
        "id": "Ezr3e4vg-6M-",
        "outputId": "736cd305-8839-482f-c0f1-41318b75dd39"
      },
      "execution_count": 75,
      "outputs": [
        {
          "output_type": "stream",
          "name": "stdout",
          "text": [
            "True\n"
          ]
        }
      ]
    },
    {
      "cell_type": "markdown",
      "source": [
        "26- Write a code to create a list, a tuple, and a dictionary, and print them all."
      ],
      "metadata": {
        "id": "qpGbDm63d2MJ"
      }
    },
    {
      "cell_type": "code",
      "source": [
        "lst= [\"name\", 23, True, 4.7]\n",
        "tup= (\"name\", 23, True, 4.7)\n",
        "dict= {1:\"first value\", \"key2\":\"value2\", \"key_3\":\"value of 3\"}\n",
        "\n",
        "print(lst)\n",
        "print(tup)\n",
        "print(dict)"
      ],
      "metadata": {
        "colab": {
          "base_uri": "https://localhost:8080/"
        },
        "id": "Puj3YgIE_GtR",
        "outputId": "f1b74747-3ce5-4733-f062-ae1b507551bd"
      },
      "execution_count": 76,
      "outputs": [
        {
          "output_type": "stream",
          "name": "stdout",
          "text": [
            "['name', 23, True, 4.7]\n",
            "('name', 23, True, 4.7)\n",
            "{1: 'first value', 'key2': 'value2', 'key_3': 'value of 3'}\n"
          ]
        }
      ]
    },
    {
      "cell_type": "markdown",
      "source": [
        "27- Write a code to create a list of 5 random numbers between 1 and 100, sort it in ascending order, and print the\n",
        "result.(replaced)"
      ],
      "metadata": {
        "id": "xu-FYE5td50E"
      }
    },
    {
      "cell_type": "code",
      "source": [
        "import random\n",
        "rand_list= []\n",
        "for i in range(0,5):\n",
        "  rand_list.append(random.randint(1, 101))\n",
        "rand_list.sort()\n",
        "print(rand_list)"
      ],
      "metadata": {
        "colab": {
          "base_uri": "https://localhost:8080/"
        },
        "id": "YrR_eou-_2Kj",
        "outputId": "e0322391-81e0-42d3-a360-c514ac1187e5"
      },
      "execution_count": 86,
      "outputs": [
        {
          "output_type": "stream",
          "name": "stdout",
          "text": [
            "[6, 38, 57, 70, 92]\n"
          ]
        }
      ]
    },
    {
      "cell_type": "markdown",
      "source": [
        "28- Write a code to create a list with strings and print the element at the third index."
      ],
      "metadata": {
        "id": "zZYPeS6Rd8--"
      }
    },
    {
      "cell_type": "code",
      "source": [
        "stringlist= [\"apple\", \"orange\", \"banana\", \"pineappple\", \"kiwi\"]\n",
        "print(stringlist[3])"
      ],
      "metadata": {
        "colab": {
          "base_uri": "https://localhost:8080/"
        },
        "id": "o2AhE3_eBDC3",
        "outputId": "442c9439-d61a-437b-de5e-a2ea524be8c0"
      },
      "execution_count": 87,
      "outputs": [
        {
          "output_type": "stream",
          "name": "stdout",
          "text": [
            "pineappple\n"
          ]
        }
      ]
    },
    {
      "cell_type": "markdown",
      "source": [
        "29- Write a code to combine two dictionaries into one and print the result."
      ],
      "metadata": {
        "id": "3tZsYZjqeAPF"
      }
    },
    {
      "cell_type": "code",
      "source": [
        "dict1= {\"key1\":\"value1\", \"key2\":\"value2\", \"key3\":\"value3\"}\n",
        "dict2= {\"key4\":\"value4\", \"key5\":\"value5\"}\n",
        "dict1.update(dict2)\n",
        "print(dict1)"
      ],
      "metadata": {
        "colab": {
          "base_uri": "https://localhost:8080/"
        },
        "id": "BerQzsLHAepk",
        "outputId": "18001e38-bd41-40a3-8859-a76a0e8a20f8"
      },
      "execution_count": 79,
      "outputs": [
        {
          "output_type": "stream",
          "name": "stdout",
          "text": [
            "{'key1': 'value1', 'key2': 'value2', 'key3': 'value3', 'key4': 'value4', 'key5': 'value5'}\n"
          ]
        }
      ]
    },
    {
      "cell_type": "markdown",
      "source": [
        "30- Write a code to convert a list of strings into a set."
      ],
      "metadata": {
        "id": "QPZH-GhxeC7i"
      }
    },
    {
      "cell_type": "code",
      "source": [
        "stringlist= [\"apple\", \"orange\", \"banana\", \"pineappple\", \"apple\"]\n",
        "stringset= set(stringlist)\n",
        "print(stringset)"
      ],
      "metadata": {
        "id": "AwcXaE5XeHf8",
        "colab": {
          "base_uri": "https://localhost:8080/"
        },
        "outputId": "ff6eaf2e-6ca3-456c-97d5-2841fd3fb626"
      },
      "execution_count": 81,
      "outputs": [
        {
          "output_type": "stream",
          "name": "stdout",
          "text": [
            "{'banana', 'apple', 'pineappple', 'orange'}\n"
          ]
        }
      ]
    }
  ]
}